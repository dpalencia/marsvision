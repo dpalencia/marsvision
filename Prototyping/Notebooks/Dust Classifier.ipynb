{
 "cells": [
  {
   "cell_type": "code",
   "execution_count": 1,
   "metadata": {},
   "outputs": [],
   "source": [
    "import numpy as np \n",
    "import pandas as pd\n",
    "import matplotlib.pyplot as plt\n",
    "from sklearn.model_selection import StratifiedKFold, cross_validate, train_test_split, cross_val_score, cross_val_predict\n",
    "from sklearn.metrics import accuracy_score, roc_curve\n",
    "from sklearn.linear_model import LogisticRegression as LR\n",
    "from sklearn import metrics \n",
    "from sklearn.model_selection import train_test_split\n",
    "from sklearn.metrics import precision_score\n",
    "from sklearn.metrics import recall_score\n",
    "from sklearn.metrics import roc_auc_score\n",
    "from sklearn.model_selection import LeaveOneOut"
   ]
  },
  {
   "cell_type": "code",
   "execution_count": 2,
   "metadata": {},
   "outputs": [],
   "source": [
    "data = pd.read_csv(\"../Data/10-14_features_filenames.csv\")\n",
    "data = data.dropna()"
   ]
  },
  {
   "cell_type": "code",
   "execution_count": 66,
   "metadata": {},
   "outputs": [],
   "source": [
    "data.to_csv(\"output.csv\")"
   ]
  },
  {
   "cell_type": "code",
   "execution_count": 4,
   "metadata": {},
   "outputs": [
    {
     "data": {
      "text/plain": [
       "no_dust    1149\n",
       "dust        396\n",
       "Name: class, dtype: int64"
      ]
     },
     "execution_count": 4,
     "metadata": {},
     "output_type": "execute_result"
    }
   ],
   "source": [
    "data[\"class\"].value_counts()"
   ]
  },
  {
   "cell_type": "code",
   "execution_count": 5,
   "metadata": {},
   "outputs": [],
   "source": [
    "# Use a simple regex to get unique HiRise ID location ID numbers.\n",
    "# So that we can group images of the same region together.\n",
    "\n",
    "# Separate out the digits which identify the photographed region:\n",
    "# oooooo_tttt, i.e.\n",
    "# <orbit_number>_<target_code>\n",
    "from sklearn.model_selection import GroupKFold\n",
    "import re\n",
    "def target_regex(filename):\n",
    "    region_string = re.search(\"[0-9]{6}_[0-9]{4}\", filename)\n",
    "    return int(region_string.group())\n",
    "\n",
    "data[\"target_location\"] = data[\"file_name\"].apply(target_regex)"
   ]
  },
  {
   "cell_type": "code",
   "execution_count": 9,
   "metadata": {},
   "outputs": [
    {
     "name": "stdout",
     "output_type": "stream",
     "text": [
      "Number of images: 402\n",
      "Unique image groups: 402\n"
     ]
    }
   ],
   "source": [
    "# Define image groups, input variables, output variables\n",
    "groups = np.array(data[\"target_location\"])\n",
    "x = np.array(data.iloc[:,0:6])\n",
    "y = np.array(data[\"class\"])\n",
    "y = [1 if name == \"dust\" else 0 for name in y]\n",
    "print(\"Number of images: \" + str(len(np.unique(groups))))\n",
    "print(\"Unique image groups: \" + str(len(np.unique(groups))))"
   ]
  },
  {
   "cell_type": "code",
   "execution_count": 10,
   "metadata": {},
   "outputs": [
    {
     "data": {
      "text/plain": [
       "0.34464751958224543"
      ]
     },
     "execution_count": 10,
     "metadata": {},
     "output_type": "execute_result"
    }
   ],
   "source": [
    "# Show the 34% class imbalance\n",
    "np.sum(data[\"class\"] == \"dust\") / np.sum(data[\"class\"] == \"no_dust\")"
   ]
  },
  {
   "cell_type": "code",
   "execution_count": 12,
   "metadata": {},
   "outputs": [],
   "source": [
    "# Use 10 folds,\n",
    "# splitting the dataset into  CV sections\n",
    "# with roughly 10 samples.\n",
    "# Get accuracy, recall, precision.\n",
    "# Sometimes no positive predictions are made,\n",
    "# resulting in undefined precision, recall, and auc\n",
    "def cv_scores(model, x, y, label, cv, groups=None):\n",
    "    model_cv_results = cross_validate(model, x, y, cv=cv, groups=groups, scoring=[\"accuracy\", \"precision\", \"recall\", \"roc_auc\"])\n",
    "    model_cv_acc_mean = np.mean(model_cv_results[\"test_accuracy\"])\n",
    "    model_cv_precision_mean = np.mean(model_cv_results[\"test_precision\"])\n",
    "    model_cv_recall_mean = np.mean(model_cv_results[\"test_recall\"])\n",
    "    model_cv_auc_mean = np.mean(model_cv_results[\"test_roc_auc\"])\n",
    "    print(label)\n",
    "    print(\"Accuracy: \" + str(model_cv_acc_mean))\n",
    "    print(\"Precision: \" + str(model_cv_precision_mean))\n",
    "    print(\"Recall: \" + str(model_cv_recall_mean))\n",
    "    print(\"AUC: \" + str(model_cv_auc_mean))\n",
    "    "
   ]
  },
  {
   "cell_type": "code",
   "execution_count": 13,
   "metadata": {},
   "outputs": [],
   "source": [
    "# Define cv splitting objects for use in cv_scores function\n",
    "group_kfold = GroupKFold(n_splits=10)\n",
    "sfold = StratifiedKFold(10, shuffle=True)"
   ]
  },
  {
   "cell_type": "code",
   "execution_count": 16,
   "metadata": {},
   "outputs": [
    {
     "name": "stdout",
     "output_type": "stream",
     "text": [
      "Logistic Regression With No Groups\n",
      "Accuracy: 0.882865521575199\n",
      "Precision: 0.816960509778846\n",
      "Recall: 0.7047435897435899\n",
      "AUC: 0.9337294783782198\n"
     ]
    }
   ],
   "source": [
    "# Logistic Regression - Without GroupKFold\n",
    "lr_model = LR()\n",
    "cv_scores(lr_model, x, y, \"Logistic Regression With No Groups\", sfold)"
   ]
  },
  {
   "cell_type": "code",
   "execution_count": 69,
   "metadata": {},
   "outputs": [
    {
     "name": "stdout",
     "output_type": "stream",
     "text": [
      "Logistic Regression With Groups\n",
      "Accuracy: 0.8769962295768747\n",
      "Precision: 0.7796225434618291\n",
      "Recall: 0.6876539130643103\n",
      "AUC: 0.9372888085968419\n"
     ]
    }
   ],
   "source": [
    "# Logistic Regression - With GroupKFold\n",
    "cv_scores(lr_model, x, y, \"Logistic Regression With Groups\", group_kfold, groups=groups)"
   ]
  },
  {
   "cell_type": "code",
   "execution_count": 60,
   "metadata": {
    "scrolled": true
   },
   "outputs": [
    {
     "name": "stdout",
     "output_type": "stream",
     "text": [
      "Random Forest With No Groups\n",
      "Accuracy: 0.9204063678257226\n",
      "Precision: 0.8661539379960432\n",
      "Recall: 0.8182692307692306\n",
      "AUC: 0.9689073593264098\n"
     ]
    }
   ],
   "source": [
    "# Random Forest\n",
    "from sklearn.ensemble import RandomForestClassifier\n",
    "rf = RandomForestClassifier(n_estimators = 500)\n",
    "cv_scores(rf, x, y, \"Random Forest With No Groups\", sfold)"
   ]
  },
  {
   "cell_type": "code",
   "execution_count": 61,
   "metadata": {},
   "outputs": [
    {
     "name": "stdout",
     "output_type": "stream",
     "text": [
      "Random Forest With Groups\n",
      "Accuracy: 0.910603267700042\n",
      "Precision: 0.8481705410160059\n",
      "Recall: 0.7890957657353697\n",
      "AUC: 0.9569351059925687\n"
     ]
    }
   ],
   "source": [
    "cv_scores(rf, x, y, \"Random Forest With Groups\", group_kfold, groups)"
   ]
  },
  {
   "cell_type": "code",
   "execution_count": 62,
   "metadata": {},
   "outputs": [
    {
     "name": "stdout",
     "output_type": "stream",
     "text": [
      "Support Vector Classifier With No Groups\n",
      "Accuracy: 0.8524005027230833\n",
      "Precision: 0.8292196812848986\n",
      "Recall: 0.5322435897435899\n",
      "AUC: 0.9383764742122868\n"
     ]
    }
   ],
   "source": [
    "#Support Vector Classifier\n",
    "from sklearn.svm import SVC\n",
    "svc = SVC(random_state = 45, probability = True)\n",
    "cv_scores(svc, x, y, \"Support Vector Classifier With No Groups\", sfold)"
   ]
  },
  {
   "cell_type": "code",
   "execution_count": 63,
   "metadata": {},
   "outputs": [
    {
     "name": "stdout",
     "output_type": "stream",
     "text": [
      "Support Vector Classifier With Groups\n",
      "Accuracy: 0.8517343946376205\n",
      "Precision: 0.8006714698206453\n",
      "Recall: 0.5334935572687663\n",
      "AUC: 0.9399309304991504\n"
     ]
    }
   ],
   "source": [
    "cv_scores(svc, x, y, \"Support Vector Classifier With Groups\", group_kfold, groups)"
   ]
  },
  {
   "cell_type": "code",
   "execution_count": 64,
   "metadata": {},
   "outputs": [
    {
     "data": {
      "text/plain": [
       "<generator object _BaseKFold.split at 0x00000158B4946848>"
      ]
     },
     "execution_count": 64,
     "metadata": {},
     "output_type": "execute_result"
    }
   ],
   "source": [
    "group_kfold.split(x, y, groups)"
   ]
  },
  {
   "cell_type": "code",
   "execution_count": null,
   "metadata": {},
   "outputs": [],
   "source": [
    "def group_kfolds_predict(model, x, y):\n",
    "    group_kfold = GroupKFold(n_splits=10)\n",
    "    for train_index, test_index in group_kfold.split(x, y, groups):\n",
    "        x = np.array(x)\n",
    "        y = np.array(y)\n",
    "        x_train = x[train_index]\n",
    "        x_test = x[test_index]\n",
    "        y_train = y[train_index]\n",
    "        y_test = y[test_index]\n",
    "        model.fit(x_train, y_train)\n",
    "        y_prob = model.predict_proba(x_test)[:,1]\n",
    "        y_predict = model.predict(x_test)\n",
    "        fpr, tpr, thresholds = metrics.roc_curve(y_test, y_prob)\n",
    "        plt.plot(fpr, tpr)"
   ]
  },
  {
   "cell_type": "code",
   "execution_count": 58,
   "metadata": {
    "scrolled": true
   },
   "outputs": [
    {
     "data": {
      "image/png": "[encoded data removed]",
      "text/plain": [
       "<Figure size 576x432 with 1 Axes>"
      ]
     },
     "metadata": {
      "needs_background": "light"
     },
     "output_type": "display_data"
    }
   ],
   "source": [
    "from sklearn.metrics import plot_roc_curve\n",
    "fig = plt.gcf()\n",
    "fig.set_size_inches(8,6)\n",
    "fig.suptitle(\"Logistic Regression ROC Curves - 10 Splits\")\n",
    "plt.xlabel(\"FPR\")\n",
    "plt.ylabel(\"TPR\")\n",
    "plt.plot([0, 1], [0, 1], linestyle=\"dotted\")\n",
    "group_kfolds_predict(lr_model, x, y)\n"
   ]
  },
  {
   "cell_type": "code",
   "execution_count": 67,
   "metadata": {},
   "outputs": [
    {
     "data": {
      "image/png": "[encoded data removed]",
      "text/plain": [
       "<Figure size 576x432 with 1 Axes>"
      ]
     },
     "metadata": {
      "needs_background": "light"
     },
     "output_type": "display_data"
    }
   ],
   "source": [
    "fig = plt.gcf()\n",
    "fig.set_size_inches(8,6)\n",
    "fig.suptitle(\"Random Forest ROC Curves - 10 Splits\")\n",
    "plt.xlabel(\"FPR\")\n",
    "plt.ylabel(\"TPR\")\n",
    "plt.plot([0, 1], [0, 1], linestyle=\"dotted\")\n",
    "group_kfolds_predict(rf, x, y)\n"
   ]
  },
  {
   "cell_type": "code",
   "execution_count": 68,
   "metadata": {},
   "outputs": [
    {
     "data": {
      "image/png": "[encoded data removed]",
      "text/plain": [
       "<Figure size 576x432 with 1 Axes>"
      ]
     },
     "metadata": {
      "needs_background": "light"
     },
     "output_type": "display_data"
    }
   ],
   "source": [
    "fig = plt.gcf()\n",
    "fig.set_size_inches(8,6)\n",
    "fig.suptitle(\"Support Vector Classifier ROC Curves - 10 Splits\")\n",
    "plt.xlabel(\"FPR\")\n",
    "plt.ylabel(\"TPR\")\n",
    "plt.plot([0, 1], [0, 1], linestyle=\"dotted\")\n",
    "group_kfolds_predict(svc, x, y)"
   ]
  }
 ],
 "metadata": {
  "kernelspec": {
   "display_name": "Python 3",
   "language": "python",
   "name": "python3"
  },
  "language_info": {
   "codemirror_mode": {
    "name": "ipython",
    "version": 3
   },
   "file_extension": ".py",
   "mimetype": "text/x-python",
   "name": "python",
   "nbconvert_exporter": "python",
   "pygments_lexer": "ipython3",
   "version": "3.7.9"
  }
 },
 "nbformat": 4,
 "nbformat_minor": 4
}
